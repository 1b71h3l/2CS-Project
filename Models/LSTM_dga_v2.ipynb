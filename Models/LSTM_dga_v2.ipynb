{
  "cells": [
    {
      "cell_type": "code",
      "execution_count": null,
      "metadata": {
        "colab": {
          "base_uri": "https://localhost:8080/"
        },
        "id": "mMrk7yRfkwP9",
        "outputId": "6191e6d2-ea63-47b3-99f7-242f40d2157a"
      },
      "outputs": [
        {
          "name": "stdout",
          "output_type": "stream",
          "text": [
            "Mounted at /content/drive\n"
          ]
        }
      ],
      "source": [
        "from google.colab import drive\n",
        "drive.mount('/content/drive')"
      ]
    },
    {
      "cell_type": "code",
      "execution_count": null,
      "metadata": {
        "id": "R93DIVQLkAyk"
      },
      "outputs": [],
      "source": [
        "import pandas as pd\n",
        "import os\n",
        "import numpy as np\n",
        "from keras.models import Sequential\n",
        "from tensorflow.keras.layers import LSTM, GRU, Dense, Embedding, Dropout, GlobalAveragePooling1D, Flatten, SpatialDropout1D, Bidirectional\n",
        "from sklearn.preprocessing import MinMaxScaler\n",
        "from sklearn.model_selection import train_test_split\n",
        "from tensorflow.keras.preprocessing.text import Tokenizer\n",
        "from tensorflow.keras.preprocessing.sequence import pad_sequences\n",
        "from tensorflow.keras.callbacks import EarlyStopping"
      ]
    },
    {
      "cell_type": "code",
      "execution_count": null,
      "metadata": {
        "id": "ANL8lfxQlCJ3"
      },
      "outputs": [],
      "source": [
        "data = pd.read_csv('/content/drive/MyDrive/dga_dataset/dataset_num_balanced.csv')"
      ]
    },
    {
      "cell_type": "code",
      "execution_count": null,
      "metadata": {
        "colab": {
          "base_uri": "https://localhost:8080/"
        },
        "id": "IVE92G-SM6rf",
        "outputId": "b21ba063-f775-481c-96b5-36a3807376af"
      },
      "outputs": [
        {
          "name": "stdout",
          "output_type": "stream",
          "text": [
            "          domTLD  domSLD  Ldom  LTLD  LSLD  LOLD  Ddom  HwP  HIP  LCc  ...  \\\n",
            "0        3082872     357  13.0  10.0   2.0   0.0   2.0  0.0  0.0  2.0  ...   \n",
            "1         308238     153  14.0  10.0   3.0   0.0   2.0  0.0  0.0  2.0  ...   \n",
            "2        2696104     153  15.0  11.0   3.0   0.0   2.0  0.0  0.0  2.0  ...   \n",
            "3        1068629     153  19.0  15.0   3.0   0.0   2.0  0.0  0.0  4.0  ...   \n",
            "4         427867     578  13.0  10.0   2.0   0.0   2.0  0.0  0.0  2.0  ...   \n",
            "...          ...     ...   ...   ...   ...   ...   ...  ...  ...  ...  ...   \n",
            "1887161  2906936     153  14.0  10.0   3.0   0.0   2.0  0.0  0.0  5.0  ...   \n",
            "1887162  2584431     153  28.0  24.0   3.0   0.0   2.0  0.0  0.0  4.0  ...   \n",
            "1887163  2145418     579  20.0  17.0   2.0   0.0   2.0  0.0  0.0  2.0  ...   \n",
            "1887164  3550279     153  30.0  26.0   3.0   0.0   2.0  0.0  0.0  3.0  ...   \n",
            "1887165  3396447     153  24.0  20.0   3.0   0.0   2.0  0.0  0.0  6.0  ...   \n",
            "\n",
            "           RAv    RAl  RAn    RAs     Rc     Rv     Rl   Rn     Rs  label  \n",
            "0        0.500  0.308  0.0  0.062  0.462  0.385  0.846  0.0  0.154      0  \n",
            "1        0.667  0.385  0.0  0.031  0.500  0.429  0.929  0.0  0.071      0  \n",
            "2        0.667  0.462  0.0  0.031  0.533  0.400  0.933  0.0  0.067      0  \n",
            "3        0.667  0.500  0.0  0.031  0.579  0.368  0.947  0.0  0.053      0  \n",
            "4        0.667  0.385  0.0  0.031  0.462  0.462  0.923  0.0  0.077      0  \n",
            "...        ...    ...  ...    ...    ...    ...    ...  ...    ...    ...  \n",
            "1887161  0.500  0.500  0.0  0.031  0.714  0.214  0.929  0.0  0.071      1  \n",
            "1887162  0.500  0.385  0.0  0.031  0.607  0.357  0.964  0.0  0.036      1  \n",
            "1887163  0.833  0.423  0.0  0.031  0.550  0.400  0.950  0.0  0.050      1  \n",
            "1887164  1.000  0.654  0.0  0.031  0.567  0.400  0.967  0.0  0.033      1  \n",
            "1887165  0.667  0.538  0.0  0.031  0.625  0.333  0.958  0.0  0.042      1  \n",
            "\n",
            "[1887166 rows x 37 columns]\n"
          ]
        }
      ],
      "source": [
        "print(data)"
      ]
    },
    {
      "cell_type": "code",
      "execution_count": null,
      "metadata": {
        "id": "yqOQa4aJJGFD"
      },
      "outputs": [],
      "source": [
        "y = data[['label']].values\n",
        "del data['label']\n",
        "del data['HIP']"
      ]
    },
    {
      "cell_type": "code",
      "execution_count": null,
      "metadata": {
        "id": "0q6FYSflKFOq"
      },
      "outputs": [],
      "source": [
        "# Create a MinMaxScaler object\n",
        "scaler = MinMaxScaler()\n",
        "\n",
        "# Fit the scaler to your dataset\n",
        "scaler.fit(data)\n",
        "\n",
        "# Transform your dataset using the scaler\n",
        "df_norm = scaler.transform(data)"
      ]
    },
    {
      "cell_type": "code",
      "execution_count": null,
      "metadata": {
        "id": "-Cm9f6-UKauK"
      },
      "outputs": [],
      "source": [
        "# Split the data into training and testing sets\n",
        "X_train, X_test, y_train, y_test = train_test_split(df_norm, y,stratify=y, test_size=0.2, random_state=42)"
      ]
    },
    {
      "cell_type": "code",
      "execution_count": null,
      "metadata": {
        "id": "B8iOUEEtfUCk"
      },
      "outputs": [],
      "source": [
        "x_train = np.reshape(X_train, (X_train.shape[0],X_train.shape[1],1))"
      ]
    },
    {
      "cell_type": "code",
      "execution_count": null,
      "metadata": {
        "colab": {
          "base_uri": "https://localhost:8080/"
        },
        "id": "98kkuUyFf_2m",
        "outputId": "a7c8bf07-ee53-4948-f234-56c32ec613ff"
      },
      "outputs": [
        {
          "data": {
            "text/plain": [
              "(1509732, 35, 1)"
            ]
          },
          "execution_count": 9,
          "metadata": {},
          "output_type": "execute_result"
        }
      ],
      "source": [
        "x_train.shape"
      ]
    },
    {
      "cell_type": "code",
      "execution_count": null,
      "metadata": {
        "id": "sFRrZL6AmEqe"
      },
      "outputs": [],
      "source": [
        "model = Sequential()\n",
        "# input layer and LSTM layer with 50 neurons\n",
        "model.add(LSTM(units=128, return_sequences=True, input_shape=(x_train.shape[1],1)))\n",
        "model.add(Dropout(0.2))\n",
        "model.add(LSTM(units=128, return_sequences=True))\n",
        "model.add(Dropout(0,2))\n",
        "model.add(Dense(1, activation='sigmoid'))\n",
        "model.compile(loss='binary_crossentropy',optimizer='adam',metrics=['accuracy'])"
      ]
    },
    {
      "cell_type": "code",
      "execution_count": null,
      "metadata": {
        "colab": {
          "background_save": true,
          "base_uri": "https://localhost:8080/"
        },
        "id": "ICeeOiR_mc7v",
        "outputId": "8e1cbd9d-b4c1-4790-f847-7173044cf3a6"
      },
      "outputs": [
        {
          "name": "stdout",
          "output_type": "stream",
          "text": [
            "Epoch 1/100\n",
            "242/242 [==============================] - 2031s 8s/step - loss: 0.6492 - accuracy: 0.6116 - val_loss: 0.6293 - val_accuracy: 0.6337\n",
            "Epoch 2/100\n",
            "242/242 [==============================] - 2038s 8s/step - loss: 0.6115 - accuracy: 0.6500 - val_loss: 0.5861 - val_accuracy: 0.6708\n",
            "Epoch 3/100\n",
            "242/242 [==============================] - 2048s 8s/step - loss: 0.5774 - accuracy: 0.6782 - val_loss: 0.5558 - val_accuracy: 0.6979\n",
            "Epoch 4/100\n",
            "242/242 [==============================] - 1996s 8s/step - loss: 0.5505 - accuracy: 0.7015 - val_loss: 0.5444 - val_accuracy: 0.7076\n",
            "Epoch 5/100\n",
            "242/242 [==============================] - 2022s 8s/step - loss: 0.5341 - accuracy: 0.7148 - val_loss: 0.5201 - val_accuracy: 0.7242\n",
            "Epoch 6/100\n",
            "242/242 [==============================] - 2032s 8s/step - loss: 0.5215 - accuracy: 0.7236 - val_loss: 0.5009 - val_accuracy: 0.7382\n",
            "Epoch 7/100\n",
            "242/242 [==============================] - 2026s 8s/step - loss: 0.5035 - accuracy: 0.7365 - val_loss: 0.4947 - val_accuracy: 0.7417\n",
            "Epoch 8/100\n",
            "242/242 [==============================] - 1997s 8s/step - loss: 0.4894 - accuracy: 0.7457 - val_loss: 0.4820 - val_accuracy: 0.7523\n",
            "Epoch 9/100\n",
            "242/242 [==============================] - ETA: 0s - loss: 0.4782 - accuracy: 0.7539"
          ]
        }
      ],
      "source": [
        "# training the model on training dataset\n",
        "early_stop = EarlyStopping(monitor='val_loss', patience=2)\n",
        "history = model.fit(x_train, y_train, epochs=100, batch_size=5000,callbacks =[early_stop],validation_split=0.2)"
      ]
    },
    {
      "cell_type": "code",
      "execution_count": null,
      "metadata": {
        "colab": {
          "base_uri": "https://localhost:8080/"
        },
        "id": "vhH4KmSvhGyj",
        "outputId": "e28a8210-3af9-45f7-8daa-2c355482debc"
      },
      "outputs": [
        {
          "name": "stdout",
          "output_type": "stream",
          "text": [
            "11795/11795 [==============================] - 74s 6ms/step - loss: 0.3707 - accuracy: 0.8145\n",
            "Test results - Loss: 0.37069424986839294 - Accuracy: 81.4464271068573%\n"
          ]
        }
      ],
      "source": [
        "x_test = np.reshape(X_test, (X_test.shape[0],X_test.shape[1],1))\n",
        "\n",
        "# predicting target attribute on testing dataset\n",
        "test_results = model.evaluate(x_test, y_test, verbose=1)\n",
        "print(f'Test results - Loss: {test_results[0]} - Accuracy: {test_results[1]*100}%')"
      ]
    },
    {
      "cell_type": "code",
      "execution_count": null,
      "metadata": {
        "id": "pDrcARnHe9D6"
      },
      "outputs": [],
      "source": [
        "import numpy as np\n",
        "from sklearn.metrics import accuracy_score, precision_score, recall_score, f1_score\n",
        "\n",
        "# ...\n",
        "\n",
        "# predicting target attribute on testing dataset\n",
        "y_pred = model.predict(X_test)\n",
        "y_pred = np.round(y_pred).flatten()\n",
        "\n",
        "accuracy = accuracy_score(y_test, y_pred)\n",
        "precision = precision_score(y_test, y_pred)\n",
        "recall = recall_score(y_test, y_pred)\n",
        "f1 = f1_score(y_test, y_pred)\n",
        "\n",
        "print(f\"Accuracy: {accuracy * 100}%\")\n",
        "print(f\"Precision: {precision}\")\n",
        "print(f\"Recall: {recall}\")\n",
        "print(f\"F1 Score: {f1}\")"
      ]
    }
  ],
  "metadata": {
    "accelerator": "GPU",
    "colab": {
      "provenance": []
    },
    "gpuClass": "standard",
    "kernelspec": {
      "display_name": "Python 3",
      "name": "python3"
    },
    "language_info": {
      "name": "python"
    }
  },
  "nbformat": 4,
  "nbformat_minor": 0
}
