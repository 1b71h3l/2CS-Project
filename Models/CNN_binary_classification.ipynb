{
  "cells": [
    {
      "cell_type": "code",
      "execution_count": null,
      "metadata": {
        "colab": {
          "base_uri": "https://localhost:8080/"
        },
        "id": "B5FX1gZ4jxYk",
        "outputId": "012e1e02-5e9a-4cf0-98e1-b0c367ffccb1"
      },
      "outputs": [
        {
          "name": "stdout",
          "output_type": "stream",
          "text": [
            "Mounted at /content/drive\n"
          ]
        }
      ],
      "source": [
        "from google.colab import drive\n",
        "drive.mount('/content/drive')"
      ]
    },
    {
      "cell_type": "code",
      "execution_count": null,
      "metadata": {
        "id": "R93DIVQLkAyk"
      },
      "outputs": [],
      "source": [
        "import pandas as pd\n",
        "import os\n",
        "from sklearn.model_selection import train_test_split"
      ]
    },
    {
      "cell_type": "code",
      "execution_count": null,
      "metadata": {
        "colab": {
          "base_uri": "https://localhost:8080/"
        },
        "id": "vxTWCRRxkOnC",
        "outputId": "ca1a1f73-3368-4896-ff0f-2cf251efd144"
      },
      "outputs": [
        {
          "name": "stdout",
          "output_type": "stream",
          "text": [
            "                                 domTLD                          domSLD  Ldom  \\\n",
            "0        784576782338916054467626849318  488496392775427878672438958169    15   \n",
            "1        488496392775427878672438958169  788742948622623196738432192695    27   \n",
            "2        488496392775427878672438958169  277262778974965566144345488573    14   \n",
            "3        595697130768765306372839937235  567159546015580566726214957187    20   \n",
            "4        488496392775427878672438958169  820354899519846715130356772207    25   \n",
            "...                                 ...                             ...   ...   \n",
            "1675995  770962937163670966920804908886  693534505500203517100940412029    20   \n",
            "1675996  164890544466941896389037254793  659887864416143826711127047818    20   \n",
            "1675997  387319368860765981107521995255  488496392775427878672438958169    16   \n",
            "1675998  831129081358710935031236283788  788858231868992874137917364688    13   \n",
            "1675999  488496392775427878672438958169  329118678273645425701599998126    11   \n",
            "\n",
            "         LTLD  LSLD  LOLD  Ddom  HwP  HIP  LCc  ...  RAv       RAl  RAn  RAs  \\\n",
            "0           2     3     8     3    0    0    2  ...  0.6  0.346154  0.0  0.5   \n",
            "1           3    23     0     2    0    0    4  ...  0.8  0.538462  0.0  0.5   \n",
            "2           3    10     0     2    0    0   10  ...  0.2  0.384615  0.0  0.5   \n",
            "3           3    16     0     2    0    0    8  ...  0.6  0.423077  0.0  0.5   \n",
            "4           3    21     0     2    0    0    2  ...  0.8  0.500000  0.0  0.5   \n",
            "...       ...   ...   ...   ...  ...  ...  ...  ...  ...       ...  ...  ...   \n",
            "1675995     2    17     0     2    0    0   14  ...  0.4  0.500000  0.0  0.5   \n",
            "1675996     4    15     0     2    0    0    5  ...  0.6  0.500000  0.0  0.5   \n",
            "1675997     2     3     9     3    0    0    2  ...  0.6  0.384615  0.0  1.0   \n",
            "1675998     2    10     0     2    0    0    3  ...  0.4  0.346154  0.0  1.0   \n",
            "1675999     3     7     0     2    0    0    3  ...  0.4  0.346154  0.0  0.5   \n",
            "\n",
            "               Rc        Rv        Rl   Rn        Rs  label  \n",
            "0        0.600000  0.266667  0.866667  0.0  0.133333      0  \n",
            "1        0.666667  0.296296  0.962963  0.0  0.037037      1  \n",
            "2        0.857143  0.071429  0.928571  0.0  0.071429      1  \n",
            "3        0.750000  0.200000  0.950000  0.0  0.050000      1  \n",
            "4        0.560000  0.400000  0.960000  0.0  0.040000      1  \n",
            "...           ...       ...       ...  ...       ...    ...  \n",
            "1675995  0.850000  0.100000  0.950000  0.0  0.050000      1  \n",
            "1675996  0.700000  0.250000  0.950000  0.0  0.050000      1  \n",
            "1675997  0.562500  0.250000  0.812500  0.0  0.187500      0  \n",
            "1675998  0.538462  0.307692  0.846154  0.0  0.153846      0  \n",
            "1675999  0.636364  0.272727  0.909091  0.0  0.090909      0  \n",
            "\n",
            "[1676000 rows x 37 columns]\n"
          ]
        }
      ],
      "source": [
        "# Read the CSV file into a dataframe\n",
        "df = pd.read_csv('/content/drive/MyDrive/dga_dataset/my_dataframe.csv')\n",
        "# Print the dataframe\n",
        "print(df)"
      ]
    },
    {
      "cell_type": "code",
      "execution_count": null,
      "metadata": {
        "id": "Q_cEvW1IlUOH"
      },
      "outputs": [],
      "source": [
        "y = df[['label']].values\n",
        "del df['label']\n",
        "X = df.values"
      ]
    },
    {
      "cell_type": "code",
      "execution_count": null,
      "metadata": {
        "colab": {
          "base_uri": "https://localhost:8080/"
        },
        "id": "kzn7opVflaOT",
        "outputId": "ecd01fd8-07f1-4e07-c2ea-a90149deef5f"
      },
      "outputs": [
        {
          "name": "stdout",
          "output_type": "stream",
          "text": [
            "<class 'str'>\n",
            "[['784576782338916054467626849318' '488496392775427878672438958169' 15 2\n",
            "  3 8 3 0 0 2 1 8 0 1.2857142857142858 1.0 4.333333333333333 0.0 1 0 6 0\n",
            "  6 3 9 0 1 0.2857142857142857 0.6 0.3461538461538461 0.0 0.5 0.6\n",
            "  0.2666666666666666 0.8666666666666667 0.0 0.1333333333333333]\n",
            " ['488496392775427878672438958169' '788742948622623196738432192695' 27 3\n",
            "  23 0 2 0 0 4 1 23 0 2.0 1.0 13.0 0.0 3 0 20 0 10 4 14 0 1\n",
            "  0.4761904761904761 0.8 0.5384615384615384 0.0 0.5 0.6666666666666666\n",
            "  0.2962962962962963 0.9629629629629628 0.0 0.037037037037037]\n",
            " ['488496392775427878672438958169' '277262778974965566144345488573' 14 3\n",
            "  10 0 2 0 0 10 1 10 0 4.0 1.0 6.5 0.0 9 0 7 0 9 1 10 0 1\n",
            "  0.4285714285714285 0.2 0.3846153846153846 0.0 0.5 0.8571428571428571\n",
            "  0.0714285714285714 0.9285714285714286 0.0 0.0714285714285714]\n",
            " ['595697130768765306372839937235' '567159546015580566726214957187' 20 3\n",
            "  16 0 2 0 0 8 1 16 0 3.75 1.0 9.5 0.0 7 0 13 0 8 3 11 0 1\n",
            "  0.3809523809523809 0.6 0.4230769230769231 0.0 0.5 0.75 0.2 0.95 0.0\n",
            "  0.05]\n",
            " ['488496392775427878672438958169' '820354899519846715130356772207' 25 3\n",
            "  21 0 2 0 0 2 2 21 0 1.2727272727272727 1.1111111111111112 12.0 0.0 1 1\n",
            "  18 0 9 4 13 0 1 0.4285714285714285 0.8 0.5 0.0 0.5 0.56 0.4 0.96 0.0\n",
            "  0.04]]\n",
            "<class 'int'>\n",
            "[[598 640027 15 2 3 8 3 0 0 2 1 8 0 1.2857142857142858 1.0\n",
            "  4.333333333333333 0.0 1 0 6 0 6 3 9 0 1 0.2857142857142857 0.6\n",
            "  0.3461538461538461 0.0 0.5 0.6 0.2666666666666666 0.8666666666666667\n",
            "  0.0 0.1333333333333333]\n",
            " [340 1134730 27 3 23 0 2 0 0 4 1 23 0 2.0 1.0 13.0 0.0 3 0 20 0 10 4 14\n",
            "  0 1 0.4761904761904761 0.8 0.5384615384615384 0.0 0.5\n",
            "  0.6666666666666666 0.2962962962962963 0.9629629629629628 0.0\n",
            "  0.037037037037037]\n",
            " [340 291995 14 3 10 0 2 0 0 10 1 10 0 4.0 1.0 6.5 0.0 9 0 7 0 9 1 10 0 1\n",
            "  0.4285714285714285 0.2 0.3846153846153846 0.0 0.5 0.8571428571428571\n",
            "  0.0714285714285714 0.9285714285714286 0.0 0.0714285714285714]\n",
            " [435 770163 20 3 16 0 2 0 0 8 1 16 0 3.75 1.0 9.5 0.0 7 0 13 0 8 3 11 0\n",
            "  1 0.3809523809523809 0.6 0.4230769230769231 0.0 0.5 0.75 0.2 0.95 0.0\n",
            "  0.05]\n",
            " [340 1186972 25 3 21 0 2 0 0 2 2 21 0 1.2727272727272727\n",
            "  1.1111111111111112 12.0 0.0 1 1 18 0 9 4 13 0 1 0.4285714285714285 0.8\n",
            "  0.5 0.0 0.5 0.56 0.4 0.96 0.0 0.04]]\n"
          ]
        }
      ],
      "source": [
        "print(type(X[5,1]))\n",
        "print(X[:5,:])\n",
        "from sklearn.preprocessing import LabelEncoder\n",
        "\n",
        "label_encoder = LabelEncoder()\n",
        "X[:, 0] = label_encoder.fit_transform(X[:, 0])\n",
        "X[:, 1] = label_encoder.fit_transform(X[:, 1])\n",
        "print(type(X[5,1]))\n",
        "print(X[:5,:])\n",
        "#print(y)"
      ]
    },
    {
      "cell_type": "code",
      "execution_count": null,
      "metadata": {
        "id": "GJUs6JeL5lQW"
      },
      "outputs": [],
      "source": [
        "from sklearn.preprocessing import MinMaxScaler\n",
        "\n",
        "# Create a MinMaxScaler object\n",
        "scaler = MinMaxScaler()\n",
        "\n",
        "# Fit the scaler to your dataset\n",
        "scaler.fit(X)\n",
        "\n",
        "# Transform your dataset using the scaler\n",
        "X_norm = scaler.transform(X)"
      ]
    },
    {
      "cell_type": "code",
      "execution_count": null,
      "metadata": {
        "colab": {
          "base_uri": "https://localhost:8080/"
        },
        "id": "w0rkGc1N5q2u",
        "outputId": "74a05c67-5fc8-4bf8-8454-2f3c3a5363f5"
      },
      "outputs": [
        {
          "name": "stdout",
          "output_type": "stream",
          "text": [
            "<class 'numpy.float64'>\n",
            "[[0.76081425 0.43152494 0.15942029 0.         0.03225806 0.13333333\n",
            "  0.33333333 0.         0.         0.03174603 0.05       0.09836066\n",
            "  0.         0.05934066 0.0952381  0.10216257 0.         0.01612903\n",
            "  0.         0.1        0.         0.3        0.6        0.33333333\n",
            "  0.         0.         0.3        0.6        0.33333333 0.\n",
            "  0.         0.61846154 0.3047619  0.86815992 0.         0.25197305]\n",
            " [0.43256997 0.76506818 0.33333333 0.07692308 0.35483871 0.\n",
            "  0.         0.         0.         0.06349206 0.05       0.3442623\n",
            "  0.         0.09230769 0.0952381  0.37360179 0.         0.0483871\n",
            "  0.         0.33333333 0.         0.5        0.8        0.54166667\n",
            "  0.         0.         0.5        0.8        0.54166667 0.\n",
            "  0.         0.68717949 0.33862434 0.97538    0.         0.04705379]\n",
            " [0.43256997 0.19687158 0.14492754 0.07692308 0.14516129 0.\n",
            "  0.         0.         0.         0.15873016 0.05       0.13114754\n",
            "  0.         0.18461538 0.0952381  0.17002237 0.         0.14516129\n",
            "  0.         0.11666667 0.         0.45       0.2        0.375\n",
            "  0.         0.         0.45       0.2        0.375      0.\n",
            "  0.         0.88351648 0.08163265 0.93708712 0.         0.12023924]\n",
            " [0.55343511 0.51926644 0.23188406 0.07692308 0.24193548 0.\n",
            "  0.         0.         0.         0.12698413 0.05       0.2295082\n",
            "  0.         0.17307692 0.0952381  0.2639821  0.         0.11290323\n",
            "  0.         0.21666667 0.         0.4        0.6        0.41666667\n",
            "  0.         0.         0.4        0.6        0.41666667 0.\n",
            "  0.         0.77307692 0.22857143 0.96094653 0.         0.07463908]\n",
            " [0.43256997 0.80029127 0.30434783 0.07692308 0.32258065 0.\n",
            "  0.         0.         0.         0.03174603 0.1        0.31147541\n",
            "  0.         0.05874126 0.10582011 0.34228188 0.         0.01612903\n",
            "  0.05263158 0.3        0.         0.45       0.8        0.5\n",
            "  0.         0.         0.45       0.8        0.5        0.\n",
            "  0.         0.57723077 0.45714286 0.97208092 0.         0.053359  ]]\n",
            "[[0]\n",
            " [1]\n",
            " [1]\n",
            " ...\n",
            " [0]\n",
            " [0]\n",
            " [0]]\n"
          ]
        }
      ],
      "source": [
        "print(type(X_norm[5,1]))\n",
        "print(X_norm[:5,:])\n",
        "print(y)\n"
      ]
    },
    {
      "cell_type": "code",
      "execution_count": null,
      "metadata": {
        "colab": {
          "base_uri": "https://localhost:8080/"
        },
        "id": "P2qQJYzmj95N",
        "outputId": "12b3f1b1-3e25-4560-d8cf-b25bd004afd1"
      },
      "outputs": [
        {
          "name": "stdout",
          "output_type": "stream",
          "text": [
            "[36]\n"
          ]
        }
      ],
      "source": [
        "# stratify - make sure classes are evenlly represented across splits\n",
        "X_train, X_valid, y_train, y_valid = \\\n",
        "    train_test_split(X_norm, y, stratify=y, train_size=0.75,random_state=42)\n",
        "\n",
        "input_shape = [X_train.shape[1]]\n",
        "print(input_shape)"
      ]
    },
    {
      "cell_type": "markdown",
      "metadata": {
        "id": "QQjahelDmsBV"
      },
      "source": [
        "### Define the model"
      ]
    },
    {
      "cell_type": "code",
      "execution_count": null,
      "metadata": {
        "id": "mMh7a5HNmrmY"
      },
      "outputs": [],
      "source": [
        "from tensorflow import keras\n",
        "from tensorflow.keras import layers\n",
        "\n",
        "model = keras.Sequential([\n",
        "    layers.BatchNormalization(input_shape=input_shape),\n",
        "    layers.Dense(256, activation='relu'),\n",
        "    layers.BatchNormalization(),\n",
        "    layers.Dropout(0.3),\n",
        "    layers.Dense(256, activation='relu'),\n",
        "    layers.BatchNormalization(),\n",
        "    layers.Dropout(0.3),\n",
        "    layers.Dense(1, activation='sigmoid'),\n",
        "])"
      ]
    },
    {
      "cell_type": "code",
      "execution_count": null,
      "metadata": {
        "colab": {
          "base_uri": "https://localhost:8080/"
        },
        "id": "qo3lGiJ-vBHz",
        "outputId": "8fcae5f4-c88f-488b-d22f-bca1a859da0a"
      },
      "outputs": [
        {
          "name": "stdout",
          "output_type": "stream",
          "text": [
            "Model: \"sequential\"\n",
            "_________________________________________________________________\n",
            " Layer (type)                Output Shape              Param #   \n",
            "=================================================================\n",
            " batch_normalization (BatchN  (None, 36)               144       \n",
            " ormalization)                                                   \n",
            "                                                                 \n",
            " dense (Dense)               (None, 256)               9472      \n",
            "                                                                 \n",
            " batch_normalization_1 (Batc  (None, 256)              1024      \n",
            " hNormalization)                                                 \n",
            "                                                                 \n",
            " dropout (Dropout)           (None, 256)               0         \n",
            "                                                                 \n",
            " dense_1 (Dense)             (None, 256)               65792     \n",
            "                                                                 \n",
            " batch_normalization_2 (Batc  (None, 256)              1024      \n",
            " hNormalization)                                                 \n",
            "                                                                 \n",
            " dropout_1 (Dropout)         (None, 256)               0         \n",
            "                                                                 \n",
            " dense_2 (Dense)             (None, 1)                 257       \n",
            "                                                                 \n",
            "=================================================================\n",
            "Total params: 77,713\n",
            "Trainable params: 76,617\n",
            "Non-trainable params: 1,096\n",
            "_________________________________________________________________\n"
          ]
        }
      ],
      "source": [
        "model.summary()"
      ]
    },
    {
      "cell_type": "markdown",
      "metadata": {
        "id": "ErdbS0sJnCwL"
      },
      "source": [
        "### Add Optimizer, Loss, and Metric"
      ]
    },
    {
      "cell_type": "code",
      "execution_count": null,
      "metadata": {
        "id": "M5gDnBQ8nEtS"
      },
      "outputs": [],
      "source": [
        "model.compile(\n",
        "    optimizer=\"adam\",\n",
        "    loss=\"binary_crossentropy\",\n",
        "    metrics=[\"binary_accuracy\"]\n",
        ")"
      ]
    },
    {
      "cell_type": "code",
      "execution_count": null,
      "metadata": {
        "colab": {
          "base_uri": "https://localhost:8080/"
        },
        "id": "LTe2sMkMnNmz",
        "outputId": "ff5bc47c-67ed-4f0d-fe3c-19899ca4af0a"
      },
      "outputs": [
        {
          "name": "stdout",
          "output_type": "stream",
          "text": [
            "Epoch 1/200\n",
            "2456/2456 [==============================] - 29s 8ms/step - loss: 0.3356 - binary_accuracy: 0.8525 - val_loss: 0.2956 - val_binary_accuracy: 0.8728\n",
            "Epoch 2/200\n",
            "2456/2456 [==============================] - 18s 8ms/step - loss: 0.3036 - binary_accuracy: 0.8677 - val_loss: 0.2817 - val_binary_accuracy: 0.8773\n",
            "Epoch 3/200\n",
            "2456/2456 [==============================] - 21s 8ms/step - loss: 0.2954 - binary_accuracy: 0.8713 - val_loss: 0.2762 - val_binary_accuracy: 0.8795\n",
            "Epoch 4/200\n",
            "2456/2456 [==============================] - 18s 7ms/step - loss: 0.2905 - binary_accuracy: 0.8731 - val_loss: 0.2721 - val_binary_accuracy: 0.8817\n",
            "Epoch 5/200\n",
            "2456/2456 [==============================] - 18s 7ms/step - loss: 0.2874 - binary_accuracy: 0.8748 - val_loss: 0.2717 - val_binary_accuracy: 0.8819\n",
            "Epoch 6/200\n",
            "2456/2456 [==============================] - 19s 8ms/step - loss: 0.2852 - binary_accuracy: 0.8758 - val_loss: 0.2682 - val_binary_accuracy: 0.8831\n",
            "Epoch 7/200\n",
            "2456/2456 [==============================] - 19s 8ms/step - loss: 0.2835 - binary_accuracy: 0.8765 - val_loss: 0.2679 - val_binary_accuracy: 0.8839\n",
            "Epoch 8/200\n",
            "2456/2456 [==============================] - 17s 7ms/step - loss: 0.2824 - binary_accuracy: 0.8771 - val_loss: 0.2669 - val_binary_accuracy: 0.8839\n",
            "Epoch 9/200\n",
            "2456/2456 [==============================] - 19s 8ms/step - loss: 0.2813 - binary_accuracy: 0.8777 - val_loss: 0.2648 - val_binary_accuracy: 0.8849\n",
            "Epoch 10/200\n",
            "2456/2456 [==============================] - 19s 8ms/step - loss: 0.2802 - binary_accuracy: 0.8779 - val_loss: 0.2638 - val_binary_accuracy: 0.8853\n",
            "Epoch 11/200\n",
            "2456/2456 [==============================] - 19s 8ms/step - loss: 0.2795 - binary_accuracy: 0.8786 - val_loss: 0.2644 - val_binary_accuracy: 0.8854\n",
            "Epoch 12/200\n",
            "2456/2456 [==============================] - 19s 8ms/step - loss: 0.2788 - binary_accuracy: 0.8789 - val_loss: 0.2632 - val_binary_accuracy: 0.8853\n",
            "Epoch 13/200\n",
            "2456/2456 [==============================] - 19s 8ms/step - loss: 0.2780 - binary_accuracy: 0.8792 - val_loss: 0.2610 - val_binary_accuracy: 0.8857\n",
            "Epoch 14/200\n",
            "2456/2456 [==============================] - 18s 7ms/step - loss: 0.2775 - binary_accuracy: 0.8794 - val_loss: 0.2623 - val_binary_accuracy: 0.8860\n",
            "Epoch 15/200\n",
            "2456/2456 [==============================] - 19s 8ms/step - loss: 0.2767 - binary_accuracy: 0.8795 - val_loss: 0.2611 - val_binary_accuracy: 0.8865\n",
            "Epoch 16/200\n",
            "2456/2456 [==============================] - 18s 7ms/step - loss: 0.2764 - binary_accuracy: 0.8799 - val_loss: 0.2603 - val_binary_accuracy: 0.8866\n",
            "Epoch 17/200\n",
            "2456/2456 [==============================] - 18s 7ms/step - loss: 0.2760 - binary_accuracy: 0.8802 - val_loss: 0.2625 - val_binary_accuracy: 0.8856\n",
            "Epoch 18/200\n",
            "2456/2456 [==============================] - 19s 8ms/step - loss: 0.2759 - binary_accuracy: 0.8800 - val_loss: 0.2591 - val_binary_accuracy: 0.8869\n",
            "Epoch 19/200\n",
            "2456/2456 [==============================] - 19s 8ms/step - loss: 0.2752 - binary_accuracy: 0.8803 - val_loss: 0.2604 - val_binary_accuracy: 0.8860\n",
            "Epoch 20/200\n",
            "2456/2456 [==============================] - 18s 7ms/step - loss: 0.2748 - binary_accuracy: 0.8805 - val_loss: 0.2596 - val_binary_accuracy: 0.8874\n",
            "Epoch 21/200\n",
            "2456/2456 [==============================] - 20s 8ms/step - loss: 0.2744 - binary_accuracy: 0.8808 - val_loss: 0.2608 - val_binary_accuracy: 0.8867\n",
            "Epoch 22/200\n",
            "2456/2456 [==============================] - 18s 7ms/step - loss: 0.2744 - binary_accuracy: 0.8808 - val_loss: 0.2587 - val_binary_accuracy: 0.8875\n",
            "Epoch 23/200\n",
            "2456/2456 [==============================] - 18s 7ms/step - loss: 0.2739 - binary_accuracy: 0.8808 - val_loss: 0.2586 - val_binary_accuracy: 0.8873\n"
          ]
        }
      ],
      "source": [
        "early_stopping = keras.callbacks.EarlyStopping(\n",
        "    patience=5,\n",
        "    min_delta=0.001,\n",
        "    restore_best_weights=True,\n",
        ")\n",
        "history = model.fit(\n",
        "    X_train, y_train,\n",
        "    validation_data=(X_valid, y_valid),\n",
        "    batch_size=512,\n",
        "    epochs=200,\n",
        "    callbacks=[early_stopping],\n",
        ")"
      ]
    },
    {
      "cell_type": "code",
      "execution_count": null,
      "metadata": {
        "colab": {
          "base_uri": "https://localhost:8080/"
        },
        "id": "_kNMUHQtB93E",
        "outputId": "a5c94fd4-20b0-404f-ff4e-ad97860c458e"
      },
      "outputs": [
        {
          "name": "stdout",
          "output_type": "stream",
          "text": [
            "13094/13094 [==============================] - 25s 2ms/step\n",
            "Accuracy: 0.8869474940334129\n",
            "Precision: 0.9106997448564139\n",
            "Recall: 0.8225859175801425\n",
            "F1-score: 0.8644031408067282\n"
          ]
        }
      ],
      "source": [
        "from sklearn.metrics import accuracy_score, precision_score, recall_score, f1_score\n",
        "\n",
        "# Assuming you have the test data X_test and corresponding labels y_test\n",
        "# Predict probabilities for the test data\n",
        "y_pred_prob = model.predict(X_valid)\n",
        "\n",
        "# Convert probabilities to binary labels using a threshold (e.g., 0.5)\n",
        "y_pred = (y_pred_prob > 0.5).astype(int)\n",
        "\n",
        "# Convert predictions and ground truth labels to flat lists\n",
        "y_pred_flat = y_pred.flatten()\n",
        "y_test_flat = y_valid.flatten()\n",
        "\n",
        "# Calculate the metrics\n",
        "accuracy = accuracy_score(y_test_flat, y_pred_flat)\n",
        "precision = precision_score(y_test_flat, y_pred_flat)\n",
        "recall = recall_score(y_test_flat, y_pred_flat)\n",
        "f1 = f1_score(y_test_flat, y_pred_flat)\n",
        "\n",
        "# Print the metrics\n",
        "print(\"Accuracy:\", accuracy)\n",
        "print(\"Precision:\", precision)\n",
        "print(\"Recall:\", recall)\n",
        "print(\"F1-score:\", f1)\n"
      ]
    },
    {
      "cell_type": "code",
      "execution_count": null,
      "metadata": {
        "colab": {
          "base_uri": "https://localhost:8080/",
          "height": 905
        },
        "id": "iXwRcYmd_cLU",
        "outputId": "41a88efc-131e-4274-ef42-65ec9d7e379c"
      },
      "outputs": [
        {
          "data": {
            "text/plain": [
              "<Axes: title={'center': 'Accuracy'}>"
            ]
          },
          "execution_count": 18,
          "metadata": {},
          "output_type": "execute_result"
        },
        {
          "data": {
            "image/png": "[encoded data removed]",
            "text/plain": [
              "<Figure size 640x480 with 1 Axes>"
            ]
          },
          "metadata": {},
          "output_type": "display_data"
        },
        {
          "data": {
            "image/png": "[encoded data removed]",
            "text/plain": [
              "<Figure size 640x480 with 1 Axes>"
            ]
          },
          "metadata": {},
          "output_type": "display_data"
        }
      ],
      "source": [
        "history_df = pd.DataFrame(history.history)\n",
        "history_df.loc[:, ['loss', 'val_loss']].plot(title=\"Cross-entropy\")\n",
        "history_df.loc[:, ['binary_accuracy', 'val_binary_accuracy']].plot(title=\"Accuracy\")"
      ]
    }
  ],
  "metadata": {
    "accelerator": "GPU",
    "colab": {
      "provenance": []
    },
    "gpuClass": "standard",
    "kernelspec": {
      "display_name": "Python 3",
      "name": "python3"
    },
    "language_info": {
      "name": "python"
    }
  },
  "nbformat": 4,
  "nbformat_minor": 0
}
