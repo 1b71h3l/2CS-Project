{
  "cells": [
    {
      "cell_type": "code",
      "execution_count": null,
      "metadata": {
        "id": "R93DIVQLkAyk"
      },
      "outputs": [],
      "source": [
        "import pandas as pd\n",
        "import os\n",
        "import numpy as np\n",
        "from keras.models import Sequential\n",
        "from tensorflow.keras.layers import LSTM, GRU, Dense, Embedding, Dropout, GlobalAveragePooling1D, Flatten, SpatialDropout1D, Bidirectional\n",
        "from sklearn.preprocessing import MinMaxScaler\n",
        "from sklearn.model_selection import train_test_split\n",
        "from tensorflow.keras.preprocessing.text import Tokenizer\n",
        "from tensorflow.keras.preprocessing.sequence import pad_sequences\n",
        "from tensorflow.keras.callbacks import EarlyStopping"
      ]
    },
    {
      "cell_type": "code",
      "execution_count": null,
      "metadata": {
        "colab": {
          "base_uri": "https://localhost:8080/"
        },
        "id": "mMrk7yRfkwP9",
        "outputId": "69342a92-7db1-4101-bbf1-dc84d758c9e9"
      },
      "outputs": [
        {
          "name": "stdout",
          "output_type": "stream",
          "text": [
            "Mounted at /content/drive\n"
          ]
        }
      ],
      "source": [
        "from google.colab import drive\n",
        "drive.mount('/content/drive')"
      ]
    },
    {
      "cell_type": "code",
      "execution_count": null,
      "metadata": {
        "colab": {
          "base_uri": "https://localhost:8080/"
        },
        "id": "ANL8lfxQlCJ3",
        "outputId": "47796f98-a061-4877-899c-6dcd886a15c2"
      },
      "outputs": [
        {
          "name": "stdout",
          "output_type": "stream",
          "text": [
            "                        domain  label\n",
            "0        seraphinaaraminta.net      1\n",
            "1            garrismasonry.com      0\n",
            "2            tomatohome.com.tw      0\n",
            "3                salespype.com      0\n",
            "4              irmetalwork.com      0\n",
            "...                        ...    ...\n",
            "1999995       modirepishro.com      0\n",
            "1999996    mfqbnlssnxnmiafy.eu      1\n",
            "1999997       prettylisten.net      1\n",
            "1999998       n0x2rc12zwdm.top      1\n",
            "1999999           follo3me.com      0\n",
            "\n",
            "[2000000 rows x 2 columns]\n"
          ]
        }
      ],
      "source": [
        "data = pd.read_csv('/content/drive/MyDrive/dga_dataset/onlydomainnames_balanceddataset.csv')\n",
        "print(data)"
      ]
    },
    {
      "cell_type": "code",
      "execution_count": null,
      "metadata": {
        "id": "ZpItnfo036fB"
      },
      "outputs": [],
      "source": [
        "y = data[['label']].values\n",
        "del data['label']"
      ]
    },
    {
      "cell_type": "code",
      "execution_count": null,
      "metadata": {
        "id": "-Cm9f6-UKauK"
      },
      "outputs": [],
      "source": [
        "# Split the data into training and testing sets\n",
        "X_train, X_test, y_train, y_test = train_test_split(data[\"domain\"], y,stratify=y, test_size=0.2, random_state=42)"
      ]
    },
    {
      "cell_type": "code",
      "execution_count": null,
      "metadata": {
        "id": "Bq6LDBEY4kO-"
      },
      "outputs": [],
      "source": [
        "# Defining pre-processing parameters\n",
        "max_len = 50\n",
        "trunc_type = 'post'\n",
        "padding_type = 'post'\n",
        "oov_tok = '<OOV>' # out of vocabulary token\n",
        "vocab_size = 500"
      ]
    },
    {
      "cell_type": "code",
      "execution_count": null,
      "metadata": {
        "id": "K5UFru9I4n_q"
      },
      "outputs": [],
      "source": [
        "tokenizer = Tokenizer(num_words = vocab_size,char_level = False,oov_token = oov_tok)\n",
        "tokenizer.fit_on_texts(X_train)"
      ]
    },
    {
      "cell_type": "code",
      "execution_count": null,
      "metadata": {
        "colab": {
          "base_uri": "https://localhost:8080/"
        },
        "id": "Ac2G67NI5poa",
        "outputId": "7289a6ff-a68b-4859-a67b-10c9f71e6bcf"
      },
      "outputs": [
        {
          "data": {
            "text/plain": [
              "1475298"
            ]
          },
          "execution_count": 16,
          "metadata": {},
          "output_type": "execute_result"
        }
      ],
      "source": [
        "# Get the word_index\n",
        "word_index = tokenizer.word_index\n",
        "total_words = len(word_index)\n",
        "total_words"
      ]
    },
    {
      "cell_type": "code",
      "execution_count": null,
      "metadata": {
        "id": "vpwdNAPL7Ww3"
      },
      "outputs": [],
      "source": [
        "training_sequences = tokenizer.texts_to_sequences(X_train)\n",
        "training_padded = pad_sequences(training_sequences,maxlen = max_len,padding = padding_type,truncating = trunc_type)"
      ]
    },
    {
      "cell_type": "code",
      "execution_count": null,
      "metadata": {
        "id": "G1QC8Gdb7fuT"
      },
      "outputs": [],
      "source": [
        "testing_sequences = tokenizer.texts_to_sequences(X_test)\n",
        "testing_padded = pad_sequences(testing_sequences,maxlen = max_len,padding = padding_type,truncating = trunc_type)"
      ]
    },
    {
      "cell_type": "code",
      "execution_count": null,
      "metadata": {
        "colab": {
          "base_uri": "https://localhost:8080/"
        },
        "id": "Wmyj9uOj7rHz",
        "outputId": "bd00bc34-6c78-4192-f841-286e5308c958"
      },
      "outputs": [
        {
          "name": "stdout",
          "output_type": "stream",
          "text": [
            "Shape of training tensor:  (1600000, 50)\n",
            "Shape of testing tensor:  (400000, 50)\n"
          ]
        }
      ],
      "source": [
        "print('Shape of training tensor: ', training_padded.shape)\n",
        "print('Shape of testing tensor: ', testing_padded.shape)"
      ]
    },
    {
      "cell_type": "markdown",
      "metadata": {
        "id": "meOLeMRk8QUT"
      },
      "source": [
        "##Model (Dense Model)"
      ]
    },
    {
      "cell_type": "code",
      "execution_count": null,
      "metadata": {
        "id": "BVu2n-i878LV"
      },
      "outputs": [],
      "source": [
        "# Define parameter\n",
        "vocab_size = 500\n",
        "embedding_dim = 16\n",
        "drop_value = 0.2\n",
        "n_dense = 24\n",
        "# Define Dense Model Architecture\n",
        "model = Sequential()\n",
        "model.add(Embedding(vocab_size,embedding_dim,input_length = max_len))\n",
        "model.add(GlobalAveragePooling1D())\n",
        "model.add(Dense(24, activation='relu'))\n",
        "model.add(Dropout(drop_value))\n",
        "model.add(Dense(1, activation='sigmoid'))"
      ]
    },
    {
      "cell_type": "code",
      "execution_count": null,
      "metadata": {
        "id": "Fsoyzark8Mei"
      },
      "outputs": [],
      "source": [
        "model1.compile(loss = 'binary_crossentropy', optimizer = 'adam' , metrics = ['accuracy'])"
      ]
    },
    {
      "cell_type": "code",
      "execution_count": null,
      "metadata": {
        "colab": {
          "base_uri": "https://localhost:8080/",
          "height": 203
        },
        "id": "t6GHkd9U8aP6",
        "outputId": "6d4d2e89-b8b0-485f-bb0a-19bb3d0d92b1"
      },
      "outputs": [],
      "source": [
        "num_epochs = 30\n",
        "early_stop = EarlyStopping(monitor='val_loss', patience=3)\n",
        "history = model1.fit(training_padded,y_train,epochs=num_epochs, validation_data=(testing_padded, y_test),callbacks =[early_stop],verbose=2)"
      ]
    },
    {
      "cell_type": "code",
      "execution_count": null,
      "metadata": {
        "id": "ut7VdCO29WkI"
      },
      "outputs": [],
      "source": [
        "model.evaluate(testing_padded, y_test)"
      ]
    },
    {
      "cell_type": "markdown",
      "metadata": {
        "id": "37UGPngI9lJN"
      },
      "source": [
        "## Model1 (Long Short Term Memory (LSTM))"
      ]
    },
    {
      "cell_type": "code",
      "execution_count": null,
      "metadata": {
        "id": "TXZ0bdQ49vco"
      },
      "outputs": [],
      "source": [
        "# Define parameter\n",
        "n_lstm = 128\n",
        "drop_lstm = 0.2\n",
        "# Define LSTM Model\n",
        "model1 = Sequential()\n",
        "model1.add(Embedding(vocab_size, embedding_dim, input_length=max_len))\n",
        "model1.add(SpatialDropout1D(drop_lstm))\n",
        "model1.add(LSTM(n_lstm, return_sequences=False))\n",
        "model1.add(Dropout(drop_lstm))\n",
        "model1.add(Dense(1, activation='sigmoid'))"
      ]
    },
    {
      "cell_type": "code",
      "execution_count": null,
      "metadata": {
        "id": "G6z1mVoC90PI"
      },
      "outputs": [],
      "source": [
        "model1.compile(loss = 'binary_crossentropy',\n",
        "               optimizer = 'adam',\n",
        "               metrics = ['accuracy'])"
      ]
    },
    {
      "cell_type": "code",
      "execution_count": null,
      "metadata": {
        "colab": {
          "background_save": true,
          "base_uri": "https://localhost:8080/"
        },
        "id": "gR4SntUy92R8",
        "outputId": "ee0d8860-7f77-4053-9e14-0318bb654bf0"
      },
      "outputs": [
        {
          "name": "stdout",
          "output_type": "stream",
          "text": [
            "Epoch 1/30\n",
            "50000/50000 - 3688s - loss: 0.6180 - accuracy: 0.6480 - val_loss: 0.4984 - val_accuracy: 0.7264 - 3688s/epoch - 74ms/step\n",
            "Epoch 2/30\n"
          ]
        }
      ],
      "source": [
        "num_epochs = 30\n",
        "early_stop = EarlyStopping(monitor='val_loss', patience=2)\n",
        "history = model1.fit(training_padded,y_train,epochs=num_epochs, validation_data=(testing_padded, y_test),callbacks =[early_stop],verbose=2)"
      ]
    },
    {
      "cell_type": "code",
      "execution_count": null,
      "metadata": {
        "id": "Yo5MtzgU-Yjh"
      },
      "outputs": [],
      "source": [
        "model1.evaluate(testing_padded, y_test)"
      ]
    }
  ],
  "metadata": {
    "colab": {
      "provenance": []
    },
    "gpuClass": "standard",
    "kernelspec": {
      "display_name": "Python 3",
      "name": "python3"
    },
    "language_info": {
      "name": "python"
    }
  },
  "nbformat": 4,
  "nbformat_minor": 0
}
